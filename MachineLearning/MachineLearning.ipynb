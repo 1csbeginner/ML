{
 "cells": [
  {
   "cell_type": "markdown",
   "id": "3dca5ed0c4c446a4",
   "metadata": {
    "collapsed": false
   },
   "source": [
    "# 使用knn算法以及贝叶斯决策对数据进行预测。\n",
    "## knn:找出这个点周围距离为k的最近的点，通过最近的点预测这个点。"
   ]
  },
  {
   "cell_type": "markdown",
   "id": "e2662cac4fa970ce",
   "metadata": {},
   "source": [
    "## 方法：\n",
    "输入数据集和标签\n",
    "\n",
    "计算待测数据与数据集的距离\n",
    "\n",
    "选出前k个距离最近的点,获得他们的标签\n",
    "\n",
    "**通过比较标签数量判断分类**"
   ]
  },
  {
   "cell_type": "code",
   "execution_count": 1,
   "id": "410a88de0a8be230",
   "metadata": {
    "ExecuteTime": {
     "end_time": "2024-04-07T16:16:36.478704Z",
     "start_time": "2024-04-07T16:16:36.262272Z"
    }
   },
   "outputs": [
    {
     "name": "stdout",
     "output_type": "stream",
     "text": [
      "[1.0, 1.4142135623730951, 2.0, 1.0, 1.4142135623730951, 1.7320508075688772, 2.6457513110645907, 1.4142135623730951, 1.7320508075688772, 1.4142135623730951, 2.0, 2.449489742783178, 2.23606797749979, 1.4142135623730951]\n",
      "[False]\n"
     ]
    }
   ],
   "source": [
    "#without sklearn library.\n",
    "#预测值：P\n",
    "#using KNN.\n",
    "\n",
    "import numpy as np\n",
    "\n",
    "class KNN:\n",
    "    def __init__(self, k):\n",
    "        self.k = k\n",
    "\n",
    "    def fit(self, x_train, y_train):\n",
    "        self.x_train = x_train\n",
    "        self.y_train = y_train\n",
    "\n",
    "    def dist(self, x1, x2):\n",
    "        return np.sqrt(np.sum((x1 - x2) ** 2))\n",
    "\n",
    "    def predict(self, x_test):\n",
    "        predictions = []\n",
    "\n",
    "        for i in range(len(x_test)):\n",
    "            #每一项都计算距离。\n",
    "            distance = [self.dist(x_test[i], x) for x in self.x_train]\n",
    "            #选出前k个距离最近的数据\n",
    "            nearest_id = np.argsort(distance)[:self.k]\n",
    "            #选出数据对应的标签计算标签的值，通过数量计算出预测数据的标签。\n",
    "            nearest_label = [self.y_train[idx] for idx in nearest_id]\n",
    "            #计算标签数量，较多的就分到相对的类中\n",
    "            true_count = nearest_label.count(True)\n",
    "            false_count = nearest_label.count(False)\n",
    "            prediction = True if true_count > false_count else False\n",
    "            predictions.append(prediction)\n",
    "        return predictions\n",
    "\n",
    "\n",
    "# Training data\n",
    "'''\n",
    "简化输入数据:\n",
    "weather: 1: sunny 0:rain 2:overcast\n",
    "temperature:1.hot 0.cool 2.mild\n",
    "humidity:1.high 0.normal\n",
    "windy:1.true 0.false\n",
    "class:(whether) :True False\n",
    "'''\n",
    "x_train = np.array(\n",
    "    [[1, 1, 1, 0], [1, 1, 1, 1], [2, 1, 1, 0], [0, 2, 1, 0], [0, 0, 0, 0], [0, 0, 0, 1], [2, 0, 0, 1], [1, 2, 1, 0],\n",
    "     [1, 0, 0, 0], [0, 2, 0, 0], [1, 2, 0, 1], [2, 2, 1, 1], [2, 1, 0, 0], [0, 2, 1, 1]])\n",
    "y_train = np.array([False, False, True, True, True, False, True, False, True, True, True, True, True, False])\n",
    "\n",
    "# Test data\n",
    "x_test = np.array([[0, 1, 1, 0]])\n",
    "\n",
    "knn = KNN(k=3)\n",
    "\n",
    "# Train the classifier\n",
    "knn.fit(x_train, y_train)\n",
    "\n",
    "predictions = knn.predict(x_test)\n",
    "print(predictions)"
   ]
  },
  {
   "cell_type": "markdown",
   "id": "5c7be4ae8cc9b82d",
   "metadata": {},
   "source": [
    "## 朴素贝叶斯法预测数据\n",
    "(需要补充方法，确实有点难。)"
   ]
  },
  {
   "cell_type": "code",
   "execution_count": 3,
   "id": "31146ea9cd7915bc",
   "metadata": {
    "ExecuteTime": {
     "end_time": "2024-04-07T16:21:00.737220Z",
     "start_time": "2024-04-07T16:21:00.719572Z"
    }
   },
   "outputs": [
    {
     "name": "stdout",
     "output_type": "stream",
     "text": [
      "[False]\n"
     ]
    }
   ],
   "source": [
    "#using naive bayes\n",
    "import numpy as np\n",
    "\n",
    "class NaiveBayes:\n",
    "    def __init__(self):\n",
    "        pass\n",
    "\n",
    "    def fit(self, X_train, y_train):\n",
    "        self.X_train = X_train\n",
    "        self.y_train = y_train\n",
    "        self.classes = np.unique(y_train)\n",
    "        self.parameters = []\n",
    "\n",
    "        for i, c in enumerate(self.classes):\n",
    "            X_c = X_train[y_train == c]\n",
    "            self.parameters.append([])\n",
    "            for col in X_c.T:\n",
    "                parameters = {\"mean\": col.mean(), \"var\": col.var()}\n",
    "                self.parameters[i].append(parameters)\n",
    "\n",
    "    def _pdf(self, x, mean, var):\n",
    "        # 计算高斯分布的概率密度函数\n",
    "        return (1 / np.sqrt(2 * np.pi * var)) * np.exp(-(x - mean) ** 2 / (2 * var))\n",
    "\n",
    "    def predict(self, X_test):\n",
    "        predictions = []\n",
    "        for x in X_test:\n",
    "            posteriors = []\n",
    "            for i, c in enumerate(self.classes):\n",
    "                # 计算先验概率\n",
    "                prior = np.sum(self.y_train == c) / len(self.y_train)\n",
    "                posterior = np.log(prior)\n",
    "                for feature, params in zip(x, self.parameters[i]):\n",
    "                    # 计算特征的概率密度函数值\n",
    "                    likelihood = self._pdf(feature, params[\"mean\"], params[\"var\"])\n",
    "                    # 乘以先验概率\n",
    "                    posterior += np.log(likelihood)\n",
    "                posteriors.append(posterior)\n",
    "            # 选取具有最大后验概率的类别作为预测结果\n",
    "            predictions.append(self.classes[np.argmax(posteriors)])\n",
    "        return predictions\n",
    "\n",
    "\n",
    "# Training data\n",
    "x_train = np.array(\n",
    "    [[1, 1, 1, 0], [1, 1, 1, 1], [2, 1, 1, 0], [0, 2, 1, 0], [0, 0, 0, 0], [0, 0, 0, 1], [2, 0, 0, 1], [1, 2, 1, 0],\n",
    "     [1, 0, 0, 0], [0, 2, 0, 0], [1, 2, 0, 1], [2, 2, 1, 1], [2, 1, 0, 0], [0, 2, 1, 1]])\n",
    "y_train = np.array([False, False, True, True, True, False, True, False, True, True, True, True, True, False])\n",
    "\n",
    "# Test data\n",
    "x_test = np.array([[0, 1, 1, 0]])\n",
    "\n",
    "# Initialize Naive Bayes classifier\n",
    "nb = NaiveBayes()\n",
    "\n",
    "# Train the classifier\n",
    "nb.fit(x_train, y_train)\n",
    "\n",
    "# Make predictions\n",
    "predictions = nb.predict(x_test)\n",
    "print(predictions)\n"
   ]
  }
 ],
 "metadata": {
  "kernelspec": {
   "display_name": "Python 3",
   "language": "python",
   "name": "python3"
  },
  "language_info": {
   "codemirror_mode": {
    "name": "ipython",
    "version": 3
   },
   "file_extension": ".py",
   "mimetype": "text/x-python",
   "name": "python",
   "nbconvert_exporter": "python",
   "pygments_lexer": "ipython3",
   "version": "3.11.5"
  }
 },
 "nbformat": 4,
 "nbformat_minor": 5
}
